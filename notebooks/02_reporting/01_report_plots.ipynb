{
 "cells": [
  {
   "cell_type": "markdown",
   "id": "94d03117-e010-4ce3-8081-527a7350ed2d",
   "metadata": {},
   "source": [
    "# NMC Update Plots"
   ]
  },
  {
   "cell_type": "code",
   "execution_count": 449,
   "id": "9d3f1436-eb30-4f6d-b7fa-cd4292f2474a",
   "metadata": {},
   "outputs": [
    {
     "name": "stdout",
     "output_type": "stream",
     "text": [
      "The autoreload extension is already loaded. To reload it, use:\n",
      "  %reload_ext autoreload\n"
     ]
    }
   ],
   "source": [
    "%load_ext autoreload\n",
    "%autoreload 2\n",
    "\n",
    "import pandas as pd\n",
    "import numpy as np\n",
    "import json\n",
    "import xarray as xr\n",
    "import pint_xarray\n",
    "import matplotlib.pyplot as plt"
   ]
  },
  {
   "cell_type": "code",
   "execution_count": 450,
   "id": "3b6ce103-f300-4105-9096-d8614657210f",
   "metadata": {},
   "outputs": [],
   "source": [
    "def location_label(site):\n",
    "    return site['river'] + ' ' + site['location']\n",
    "\n",
    "def compute_river_load(ds, site, nested=True):\n",
    "    \n",
    "    site_load = ds.sel(site_no=site['gage_id'])\n",
    "    site_load = site_load.drop_vars('site_no')\n",
    "    site_load = site_load * site['scale_factor']\n",
    "\n",
    "    upstream_gage = site.get('upstream_gage')\n",
    "    \n",
    "    if upstream_gage and nested:\n",
    "        upstream_load = ds.sel(site_no=upstream_gage).drop_vars('site_no')\n",
    "        site_load = site_load - upstream_load\n",
    "        \n",
    "    site_load = site_load.assign_coords(coords={'river':location_label(site)})\n",
    "    \n",
    "    return site_load\n",
    "\n",
    "\n",
    "def compute_network_loads(ds, network, nested=True):\n",
    "    rivers = []\n",
    "    \n",
    "    for site in network:\n",
    "        if site['gage_id'] in ds.site_no:\n",
    "            rivers.append(compute_river_load(ds, site, nested))\n",
    "        \n",
    "    return xr.concat(rivers, dim='river')\n",
    "    #return rivers\n",
    "\n",
    "def labels(network):\n",
    "    labels = []\n",
    "    for site in network:\n",
    "        nested = site.get('nested')\n",
    "\n",
    "        if nested is None or nested==False:\n",
    "            #print(nested)\n",
    "            labels.append(location_label(site))\n",
    "            \n",
    "    return labels\n",
    "\n",
    "def gages(network):\n",
    "    labels = []\n",
    "    for site in network:\n",
    "        nested = site.get('nested')\n",
    "\n",
    "        if nested is None or nested==False:\n",
    "            #print(nested)\n",
    "            labels.append(site['gage_id'])\n",
    "            \n",
    "    return labels\n",
    "#def compute_network_total(ds, network):\n",
    "#    pass\n",
    "\n",
    "def kg_to_lbs(x):\n",
    "    return x * 2.20462\n",
    "\n",
    "def kg_to_kt(x):\n",
    "    return x * 1.0e-6"
   ]
  },
  {
   "cell_type": "code",
   "execution_count": 451,
   "id": "a3a7a49e-cbbb-4fd9-8909-194c086f4e9b",
   "metadata": {},
   "outputs": [],
   "source": [
    "supergage_metadata = '../../data/supergage_network.json'\n",
    "ambient_metadata = '../../data/ambient_network.json'\n",
    "\n",
    "with open(supergage_metadata) as f:\n",
    "    supergage_network = json.load(f)\n",
    "    \n",
    "with open(ambient_metadata) as f:\n",
    "    ambient_network = json.load(f)\n",
    "\n",
    "supergage_ds = xr.load_dataset('../../data/supergage_annual_loads.netcdf')\n",
    "ambient_ds = xr.load_dataset('../../data/ambient_wrtdsk_annual_loads.netcdf')"
   ]
  },
  {
   "cell_type": "code",
   "execution_count": 452,
   "id": "34361114-b4c9-400d-8907-17ddbf5288e9",
   "metadata": {},
   "outputs": [
    {
     "data": {
      "text/plain": [
       "['Rock at Joslin',\n",
       " 'Green at Geneseo',\n",
       " 'Illinois at Valley City',\n",
       " 'Kaskaskia at Venedy Station',\n",
       " 'Big Muddy at Murphysboro',\n",
       " 'Little Wabash at Carmi',\n",
       " 'Embarras at Ste. Mairie',\n",
       " 'Vermilion at Danville']"
      ]
     },
     "execution_count": 452,
     "metadata": {},
     "output_type": "execute_result"
    }
   ],
   "source": [
    "labels(supergage_network)\n",
    "#gages(supergage_network) "
   ]
  },
  {
   "cell_type": "code",
   "execution_count": 434,
   "id": "2fe2933d-a5c5-4bd7-9847-365588c9e7c8",
   "metadata": {},
   "outputs": [],
   "source": [
    "supergage_loads = compute_network_loads(supergage_ds.dropna(dim='year'), supergage_network, nested=False)\n",
    "\n",
    "ambient_loads = compute_network_loads(ambient_ds.sel(site_no=gages(ambient_network)).dropna(dim='year'),\n",
    "                                      ambient_network, nested=False)\n",
    "\n",
    "units = {'nitrate': 'kg', 'phosphorus': 'kg'}\n",
    "supergage_loads = supergage_loads.pint.quantify(units)\n",
    "ambient_loads = ambient_loads.pint.quantify(units)"
   ]
  },
  {
   "cell_type": "code",
   "execution_count": null,
   "id": "d9b17a1f-ce3f-476b-b930-5fd611748575",
   "metadata": {},
   "outputs": [],
   "source": []
  },
  {
   "cell_type": "code",
   "execution_count": 878,
   "id": "85f4a1b8-a9d2-4819-9b7e-92cf5f6dc48d",
   "metadata": {},
   "outputs": [],
   "source": [
    "from matplotlib.offsetbox import AnchoredText\n",
    "\n",
    "def title_axes(ax):\n",
    "    ax.set_xlabel( ax.get_xlabel().title())\n",
    "    ax.set_ylabel( ax.get_ylabel().title())\n",
    "    \n",
    "    \n",
    "#def annotate_difference(baseline_mean, recent_mean, loc, ax):\n",
    "def annotate_difference(delta, loc, ax):\n",
    "    if loc is None:\n",
    "        loc='upper right'\n",
    "        \n",
    "    #delta = (recent_mean - baseline_mean)/ baseline_mean * 100\n",
    "    annotate_text = \"Change: {:.1f}%\".format(delta.values)\n",
    "    at = AnchoredText(annotate_text, prop=dict(size=10), frameon=False, loc=loc)\n",
    "    ax.add_artist(at)\n",
    "    \n",
    "    \n",
    "def mean_and_se(ds, dim):\n",
    "    mean = ds.mean(dim=dim)\n",
    "    se = ds.std(dim=dim) / np.sqrt(ds.sizes[dim])\n",
    "    return mean, se\n",
    "\n",
    "    \n",
    "def plot_mean_error(ds, period, color, ax, linewidth=2, extend=None):\n",
    "    # ds.sel(river=labels(network1)).sum(dim='river').sel(year=ds.year.dt.year.isin(period))    \n",
    "    mean, se = mean_and_se(ds, dim='year')\n",
    "\n",
    "    xmin = pd.to_datetime(str(period[0]))\n",
    "    xmax = pd.to_datetime(str(period[-1]))\n",
    "    ax.hlines(y=mean, xmin=xmin, xmax=xmax, linewidth=linewidth, color=color)\n",
    "    ax.hlines(y=mean+1.96*se, xmin=xmin, xmax=xmax, linewidth=1, ls='-', color=color)\n",
    "    ax.hlines(y=mean-1.96*se, xmin=xmin, xmax=xmax, linewidth=1, ls='-', color=color)\n",
    "    \n",
    "    if extend:\n",
    "        extend =  pd.to_datetime(str(extend))\n",
    "        ax.hlines(y=mean, xmin=xmax, xmax=extend, linewidth=linewidth, ls='dotted', color=color)\n",
    "\n",
    "\n",
    "def running_average_plot(ds1,\n",
    "                         period1,\n",
    "                         period2,\n",
    "                         ds2=None, \n",
    "                         ax=None,\n",
    "                         loc=None):\n",
    "    if ax is None:\n",
    "        fig, ax = plt.subplots()\n",
    "    \n",
    "    p1_ds = ds1.sel(year=ds1.year.dt.year.isin(period1))\n",
    "    p1_mean = p1_ds.mean()\n",
    "\n",
    "    if ds2 is None:\n",
    "        ds2 = ds1\n",
    "\n",
    "    p2_ds = ds2.sel(year=ds2.year.dt.year.isin(period2))\n",
    "    p2_mean = p2_ds.mean()\n",
    "   \n",
    "    plot_mean_error(ds=p1_ds,\n",
    "                    period=period1,\n",
    "                    color='red',\n",
    "                    extend=period2[0],\n",
    "                    ax=ax)\n",
    "    \n",
    "    plot_mean_error(ds=p2_ds,\n",
    "                    period=period2,\n",
    "                    color='black',\n",
    "                    ax=ax)\n",
    "\n",
    "    ds1.plot(marker='o', color='k', linestyle='None', markeredgecolor='k', markerfacecolor='None', ax=ax)\n",
    "    ds2.plot(marker='o', color='k', linestyle='None', markeredgecolor='k', markerfacecolor='k', ax=ax)\n",
    "\n",
    "    #annotate_difference(p1_mean, p2_mean, loc, ax)\n",
    "    annotate_difference(p2_mean, loc, ax)\n",
    "    title_axes(ax)\n",
    "\n"
   ]
  },
  {
   "cell_type": "code",
   "execution_count": 879,
   "id": "7d521472-fbeb-4617-9dcd-2397d1c0a2ab",
   "metadata": {},
   "outputs": [],
   "source": [
    "fig_w = 5.51181 #inches\n",
    "fig_h = 4 #inches"
   ]
  },
  {
   "cell_type": "code",
   "execution_count": 880,
   "id": "8b8c587f-5466-415f-bf27-d7332c16f0ef",
   "metadata": {},
   "outputs": [
    {
     "name": "stderr",
     "output_type": "stream",
     "text": [
      "C:\\Users\\thodson\\Miniconda3\\lib\\site-packages\\xarray\\core\\variable.py:259: UnitStrippedWarning: The unit of the quantity is stripped when downcasting to ndarray.\n",
      "  data = np.asarray(data)\n",
      "C:\\Users\\thodson\\Miniconda3\\lib\\site-packages\\xarray\\core\\variable.py:259: UnitStrippedWarning: The unit of the quantity is stripped when downcasting to ndarray.\n",
      "  data = np.asarray(data)\n",
      "C:\\Users\\thodson\\Miniconda3\\lib\\site-packages\\xarray\\core\\variable.py:259: UnitStrippedWarning: The unit of the quantity is stripped when downcasting to ndarray.\n",
      "  data = np.asarray(data)\n"
     ]
    },
    {
     "data": {
      "image/png": "[encoded data removed]",
      "text/plain": [
       "<Figure size 396.85x288 with 1 Axes>"
      ]
     },
     "metadata": {
      "needs_background": "light"
     },
     "output_type": "display_data"
    }
   ],
   "source": [
    "# timeseries of % of baseline load\n",
    "\n",
    "baseline_years = np.arange(1986,1996+1)\n",
    "study_years = np.arange(2017,2021+1) #base this on data\n",
    "parameter='nitrate'; loc='upper right'\n",
    "units='percentage'\n",
    "\n",
    "fig, ax = plt.subplots(figsize=(fig_w, fig_h))\n",
    "\n",
    "baseline_mean_load = ambient_loads[parameter].sel(river=labels(ambient_network)).sum(dim='river').sel(year=ambient_loads.year.dt.year.isin(baseline_years)).mean()\n",
    "\n",
    "ambient_total_load = ambient_loads[parameter].sel(river=labels(ambient_network)).sum(dim='river') / baseline_mean_load * 100 - 100\n",
    "supergage_total_load = supergage_loads[parameter].sel(river=labels(supergage_network)).sum(dim='river') / baseline_mean_load * 100 - 100\n",
    "\n",
    "running_average_plot(ds1=ambient_total_load,\n",
    "                     period1=baseline_years,\n",
    "                     period2=study_years,\n",
    "                     ds2=supergage_total_load,\n",
    "                     loc=loc,\n",
    "                     ax=ax)\n",
    "\n",
    "#ax.set_ylabel(f'Annual {parameter.title()} Load\\n[{units} from baseline] ')\n",
    "ax.set_ylabel(f'Annual {parameter} load \\n[{units} above baseline]'.title())\n",
    "\n",
    "fig.tight_layout()\n",
    "fig.savefig(f'../../figures/{parameter}_timeseries.pdf')"
   ]
  },
  {
   "cell_type": "code",
   "execution_count": null,
   "id": "f15b3678-db5d-49b1-b13a-cc57099ae058",
   "metadata": {},
   "outputs": [],
   "source": []
  },
  {
   "cell_type": "code",
   "execution_count": 882,
   "id": "7fa802fb-a0bc-4837-9e1c-bff2d7d8af07",
   "metadata": {},
   "outputs": [
    {
     "name": "stderr",
     "output_type": "stream",
     "text": [
      "C:\\Users\\thodson\\Miniconda3\\lib\\site-packages\\xarray\\core\\variable.py:259: UnitStrippedWarning: The unit of the quantity is stripped when downcasting to ndarray.\n",
      "  data = np.asarray(data)\n",
      "C:\\Users\\thodson\\Miniconda3\\lib\\site-packages\\xarray\\core\\variable.py:259: UnitStrippedWarning: The unit of the quantity is stripped when downcasting to ndarray.\n",
      "  data = np.asarray(data)\n",
      "C:\\Users\\thodson\\Miniconda3\\lib\\site-packages\\xarray\\core\\variable.py:259: UnitStrippedWarning: The unit of the quantity is stripped when downcasting to ndarray.\n",
      "  data = np.asarray(data)\n"
     ]
    },
    {
     "data": {
      "image/png": "[encoded data removed]",
      "text/plain": [
       "<Figure size 396.85x288 with 1 Axes>"
      ]
     },
     "metadata": {
      "needs_background": "light"
     },
     "output_type": "display_data"
    }
   ],
   "source": [
    "# timeseries of % of baseline load\n",
    "\n",
    "baseline_years = np.arange(1986,1996+1)\n",
    "study_years = np.arange(2017,2021+1) #base this on data\n",
    "parameter='phosphorus'; loc='upper left'\n",
    "units='percentage'\n",
    "\n",
    "fig, ax = plt.subplots(figsize=(fig_w, fig_h))\n",
    "\n",
    "baseline_mean_load = ambient_loads[parameter].sel(river=labels(ambient_network)).sum(dim='river').sel(year=ambient_loads.year.dt.year.isin(baseline_years)).mean()\n",
    "\n",
    "ambient_total_load = ambient_loads[parameter].sel(river=labels(ambient_network)).sum(dim='river') / baseline_mean_load * 100 - 100\n",
    "supergage_total_load = supergage_loads[parameter].sel(river=labels(supergage_network)).sum(dim='river') / baseline_mean_load * 100 - 100\n",
    "\n",
    "running_average_plot(ds1=ambient_total_load,\n",
    "                     period1=baseline_years,\n",
    "                     period2=study_years,\n",
    "                     ds2=supergage_total_load,\n",
    "                     loc=loc,\n",
    "                     ax=ax)\n",
    "\n",
    "#ax.set_ylabel(f'Annual {parameter.title()} Load\\n[{units} from baseline] ')\n",
    "ax.set_ylabel(f'Annual {parameter} load \\n[{units} above baseline]'.title())\n",
    "\n",
    "fig.tight_layout()\n",
    "fig.savefig(f'../../figures/{parameter}_timeseries.pdf')"
   ]
  },
  {
   "cell_type": "code",
   "execution_count": 883,
   "id": "dd326e18-e736-412b-a527-891d1e1324db",
   "metadata": {},
   "outputs": [
    {
     "name": "stderr",
     "output_type": "stream",
     "text": [
      "C:\\Users\\thodson\\Miniconda3\\lib\\site-packages\\xarray\\core\\variable.py:259: UnitStrippedWarning: The unit of the quantity is stripped when downcasting to ndarray.\n",
      "  data = np.asarray(data)\n",
      "C:\\Users\\thodson\\Miniconda3\\lib\\site-packages\\xarray\\core\\variable.py:259: UnitStrippedWarning: The unit of the quantity is stripped when downcasting to ndarray.\n",
      "  data = np.asarray(data)\n",
      "C:\\Users\\thodson\\Miniconda3\\lib\\site-packages\\xarray\\core\\variable.py:259: UnitStrippedWarning: The unit of the quantity is stripped when downcasting to ndarray.\n",
      "  data = np.asarray(data)\n"
     ]
    },
    {
     "data": {
      "image/png": "[encoded data removed]",
      "text/plain": [
       "<Figure size 396.85x288 with 1 Axes>"
      ]
     },
     "metadata": {
      "needs_background": "light"
     },
     "output_type": "display_data"
    }
   ],
   "source": [
    "# ambient only\n",
    "baseline_years = np.arange(1986,1996+1)\n",
    "ambient_study_years = np.arange(2016,2021) #base this on data\n",
    "fig, ax = plt.subplots(figsize=(fig_w, fig_h))\n",
    "\n",
    "baseline_mean_load = ambient_loads[parameter].sel(river=labels(ambient_network)).sum(dim='river').sel(year=ambient_loads.year.dt.year.isin(baseline_years)).mean()\n",
    "\n",
    "ambient_total_load = ambient_loads[parameter].sel(river=labels(ambient_network)).sum(dim='river') / baseline_mean_load * 100 - 100\n",
    "supergage_total_load = supergage_loads[parameter].sel(river=labels(supergage_network)).sum(dim='river') / baseline_mean_load * 100 - 100\n",
    "\n",
    "running_average_plot(ds1=ambient_total_load,\n",
    "                     period1=baseline_years,\n",
    "                     period2=study_years,\n",
    "                     #ds2=supergage_total_load,\n",
    "                     loc=loc,\n",
    "                     ax=ax)\n",
    "\n",
    "#ax.set_ylabel(f'Annual {parameter.title()} Load\\n[{units} from baseline] ')\n",
    "ax.set_ylabel(f'Annual {parameter} load \\n[{units} above baseline]'.title())\n",
    "\n",
    "fig.tight_layout()\n",
    "#fig.savefig(f'../../figures/{parameter}_timeseries.pdf')"
   ]
  },
  {
   "cell_type": "code",
   "execution_count": 884,
   "id": "a466ca00-d45f-45b2-9385-0e47162778d1",
   "metadata": {},
   "outputs": [],
   "source": [
    "def plot_difference(period1_ds, period2_ds, ax=None, color='k'):\n",
    "    '''\n",
    "    ds1 = ambient_loads[parameter].sel(year=ambient_loads.year.dt.year.isin(baseline_years)).mean(dim='year')\n",
    "    ds2 = supergage_loads[parameter].sel(year=supergage_loads.year.dt.year.isin(study_years)).mean(dim='year')\n",
    "    '''\n",
    "    if ax is None:\n",
    "        fig, ax = plt.subplots()\n",
    "    \n",
    "    mean1, se1 = mean_and_se(period1_ds, dim='year')\n",
    "    mean2, se2 = mean_and_se(period2_ds, dim='year')#ds.mean()\n",
    "    \n",
    "    difference = (mean2 - mean1).to_series()\n",
    "    difference_se = np.sqrt(se1**2 + se2**2)\n",
    "    \n",
    "    #units = period1_ds.pint.units\n",
    "    title = period1_ds.name.title()\n",
    "    \n",
    "    difference.plot.bar(ax=ax, yerr=difference_se*1.96, color=color, edgecolor='k', capsize=4)\n",
    "    \n",
    "    ax.set_ylabel(f'{title} [{units}]')\n",
    "    ax.set_xlabel('')\n",
    "    ax.axhline(y=0, lw=1, color='k')\n",
    "    \n",
    "    \n",
    "def plot_change_by_basin(period1_ds, period2_ds, ax=None, color='k', statewide=False):\n",
    "    '''\n",
    "    ds1 = ambient_loads[parameter].sel(year=ambient_loads.year.dt.year.isin(baseline_years)).mean(dim='year')\n",
    "    ds2 = supergage_loads[parameter].sel(year=supergage_loads.year.dt.year.isin(study_years)).mean(dim='year')\n",
    "    '''\n",
    "    if ax is None:\n",
    "        fig, ax = plt.subplots()\n",
    "        \n",
    "        \n",
    "    # compute standard error of baseline\n",
    "    #(p1-p2) / p3\n",
    "    # first compute error in p1-p2\n",
    "    mean1, se1 = mean_and_se(period1_ds, dim='year')\n",
    "    mean2, se2 = mean_and_se(period2_ds, dim='year')#ds.mean()\n",
    "    \n",
    "    difference = (mean2 - mean1).to_series()\n",
    "    difference_se = np.sqrt(se1**2 + se2**2)\n",
    "    #import pdb; pdb.set_trace()\n",
    "    div = mean1\n",
    "    \n",
    "    if statewide:\n",
    "        div = mean1.sum()\n",
    "        \n",
    "    difference = difference/div.values * 100\n",
    "    difference_se = difference_se/div.values * 100\n",
    "        \n",
    "    #title = period1_ds.name.title()\n",
    "    \n",
    "    difference.plot.bar(ax=ax, yerr=difference_se*1.96, color=color, edgecolor='k', capsize=4)\n",
    "    \n",
    "    #ax.set_ylabel(f'{title} [{units}]')\n",
    "    ax.set_xlabel('')\n",
    "    ax.axhline(y=0, lw=1, color='k')"
   ]
  },
  {
   "cell_type": "code",
   "execution_count": 885,
   "id": "db3bee82-67ae-44db-be84-3e452f422487",
   "metadata": {},
   "outputs": [
    {
     "name": "stderr",
     "output_type": "stream",
     "text": [
      "C:\\Users\\thodson\\Miniconda3\\lib\\site-packages\\xarray\\core\\variable.py:259: UnitStrippedWarning: The unit of the quantity is stripped when downcasting to ndarray.\n",
      "  data = np.asarray(data)\n"
     ]
    },
    {
     "data": {
      "image/png": "[encoded data removed]",
      "text/plain": [
       "<Figure size 396.85x288 with 1 Axes>"
      ]
     },
     "metadata": {
      "needs_background": "light"
     },
     "output_type": "display_data"
    }
   ],
   "source": [
    "parameter = 'nitrate'\n",
    "units = 'percentage'\n",
    "baseline_years = np.arange(1986,1996+1)\n",
    "study_years = np.arange(2017,2021+1) \n",
    "\n",
    "\n",
    "ds1 = ambient_loads[parameter].sel(year=ambient_loads.year.dt.year.isin(baseline_years))\n",
    "ds2 = supergage_loads[parameter].sel(year=supergage_loads.year.dt.year.isin(study_years))\n",
    "\n",
    "\n",
    "fig, ax = plt.subplots(figsize=(fig_w, fig_h))\n",
    "\n",
    "plot_change_by_basin(ds1, ds2, color='lightgreen', ax=ax, statewide=False)\n",
    "\n",
    "ax.set_xticklabels([ label.get_text().replace(' at ','\\nat ') for label in ax.get_xticklabels()], rotation=60, ha='right')\n",
    "#ax.set_ylabel(f'{parameter.title()}\\n Relative to Baseline\\n[{ds1.pint.units}]')\n",
    "ax.set_ylabel(f'Annual {parameter} load \\n[{units} above local baseline]'.title())\n",
    "\n",
    "fig.tight_layout()\n",
    "fig.savefig(f'../../figures/{parameter}_relative_to_local_baseline_by_river.pdf')"
   ]
  },
  {
   "cell_type": "code",
   "execution_count": 886,
   "id": "2d8e9c1a-af8b-4004-8d68-b8e0b26b303c",
   "metadata": {},
   "outputs": [
    {
     "name": "stderr",
     "output_type": "stream",
     "text": [
      "C:\\Users\\thodson\\Miniconda3\\lib\\site-packages\\xarray\\core\\variable.py:259: UnitStrippedWarning: The unit of the quantity is stripped when downcasting to ndarray.\n",
      "  data = np.asarray(data)\n",
      "C:\\Users\\thodson\\Miniconda3\\lib\\site-packages\\xarray\\core\\variable.py:259: UnitStrippedWarning: The unit of the quantity is stripped when downcasting to ndarray.\n",
      "  data = np.asarray(data)\n"
     ]
    },
    {
     "data": {
      "image/png": "[encoded data removed]",
      "text/plain": [
       "<Figure size 396.85x288 with 1 Axes>"
      ]
     },
     "metadata": {
      "needs_background": "light"
     },
     "output_type": "display_data"
    }
   ],
   "source": [
    "parameter = 'nitrate'\n",
    "units = 'percentage'\n",
    "baseline_years = np.arange(1986,1996+1)\n",
    "study_years = np.arange(2017,2021+1) \n",
    "\n",
    "\n",
    "ds1 = ambient_loads[parameter].sel(year=ambient_loads.year.dt.year.isin(baseline_years))\n",
    "ds2 = supergage_loads[parameter].sel(year=supergage_loads.year.dt.year.isin(study_years))\n",
    "\n",
    "\n",
    "fig, ax = plt.subplots(figsize=(fig_w, fig_h))\n",
    "\n",
    "plot_change_by_basin(ds1, ds2, color='lightgreen', ax=ax, statewide=True)\n",
    "\n",
    "ax.set_xticklabels([ label.get_text().replace(' at ','\\nat ') for label in ax.get_xticklabels()], rotation=60, ha='right')\n",
    "#ax.set_ylabel(f'{parameter.title()}\\n Relative to Baseline\\n[{ds1.pint.units}]')\n",
    "ax.set_ylabel(f'Annual {parameter} load \\n[{units} above state baseline]'.title())\n",
    "\n",
    "fig.tight_layout()\n",
    "fig.savefig(f'../../figures/{parameter}_relative_to_state_baseline_by_river.pdf')"
   ]
  },
  {
   "cell_type": "code",
   "execution_count": 887,
   "id": "0b4c9955-ba71-45ab-89fc-790b92ca806b",
   "metadata": {},
   "outputs": [
    {
     "name": "stderr",
     "output_type": "stream",
     "text": [
      "C:\\Users\\thodson\\Miniconda3\\lib\\site-packages\\xarray\\core\\variable.py:259: UnitStrippedWarning: The unit of the quantity is stripped when downcasting to ndarray.\n",
      "  data = np.asarray(data)\n"
     ]
    },
    {
     "data": {
      "image/png": "[encoded data removed]",
      "text/plain": [
       "<Figure size 396.85x288 with 1 Axes>"
      ]
     },
     "metadata": {
      "needs_background": "light"
     },
     "output_type": "display_data"
    }
   ],
   "source": [
    "parameter = 'phosphorus'\n",
    "units = 'percentage'\n",
    "baseline_years = np.arange(1986,1996+1)\n",
    "study_years = np.arange(2017,2021+1) \n",
    "\n",
    "\n",
    "ds1 = ambient_loads[parameter].sel(year=ambient_loads.year.dt.year.isin(baseline_years))\n",
    "ds2 = supergage_loads[parameter].sel(year=supergage_loads.year.dt.year.isin(study_years))\n",
    "\n",
    "\n",
    "fig, ax = plt.subplots(figsize=(fig_w, fig_h))\n",
    "\n",
    "plot_change_by_basin(ds1, ds2, color='lavender', ax=ax, statewide=False)\n",
    "\n",
    "ax.set_xticklabels([ label.get_text().replace(' at ','\\nat ') for label in ax.get_xticklabels()], rotation=60, ha='right')\n",
    "#ax.set_ylabel(f'{parameter.title()}\\n Relative to Baseline\\n[{ds1.pint.units}]')\n",
    "ax.set_ylabel(f'Annual {parameter} load \\n[{units} above local baseline]'.title())\n",
    "\n",
    "fig.tight_layout()\n",
    "fig.savefig(f'../../figures/{parameter}_relative_to_local_baseline_by_river.pdf')"
   ]
  },
  {
   "cell_type": "code",
   "execution_count": 889,
   "id": "47e7a10b-be3f-40f7-851c-595f81e024d4",
   "metadata": {},
   "outputs": [
    {
     "name": "stderr",
     "output_type": "stream",
     "text": [
      "C:\\Users\\thodson\\Miniconda3\\lib\\site-packages\\xarray\\core\\variable.py:259: UnitStrippedWarning: The unit of the quantity is stripped when downcasting to ndarray.\n",
      "  data = np.asarray(data)\n",
      "C:\\Users\\thodson\\Miniconda3\\lib\\site-packages\\xarray\\core\\variable.py:259: UnitStrippedWarning: The unit of the quantity is stripped when downcasting to ndarray.\n",
      "  data = np.asarray(data)\n"
     ]
    },
    {
     "data": {
      "image/png": "[encoded data removed]",
      "text/plain": [
       "<Figure size 396.85x288 with 1 Axes>"
      ]
     },
     "metadata": {
      "needs_background": "light"
     },
     "output_type": "display_data"
    }
   ],
   "source": [
    "parameter = 'phosphorus'\n",
    "units = 'percentage'\n",
    "baseline_years = np.arange(1986,1996+1)\n",
    "study_years = np.arange(2017,2021+1) \n",
    "\n",
    "\n",
    "ds1 = ambient_loads[parameter].sel(year=ambient_loads.year.dt.year.isin(baseline_years))\n",
    "ds2 = supergage_loads[parameter].sel(year=supergage_loads.year.dt.year.isin(study_years))\n",
    "#ds2 = ambient_loads[parameter].sel(year=ambient_loads.year.dt.year.isin(study_years))\n",
    "\n",
    "\n",
    "\n",
    "fig, ax = plt.subplots(figsize=(fig_w, fig_h))\n",
    "\n",
    "plot_change_by_basin(ds1, ds2, color='lavender', ax=ax, statewide=True)\n",
    "\n",
    "ax.set_xticklabels([ label.get_text().replace(' at ','\\nat ') for label in ax.get_xticklabels()], rotation=60, ha='right')\n",
    "#ax.set_ylabel(f'{parameter.title()}\\n Relative to Baseline\\n[{ds1.pint.units}]')\n",
    "ax.set_ylabel(f'Annual {parameter} load \\n[{units} above state baseline]'.title())\n",
    "\n",
    "fig.tight_layout()\n",
    "fig.savefig(f'../../figures/{parameter}_relative_to_state_baseline_by_river.pdf')"
   ]
  },
  {
   "cell_type": "code",
   "execution_count": null,
   "id": "1d81ccd2-f8a5-4479-a836-2c99d2ca467b",
   "metadata": {},
   "outputs": [],
   "source": []
  },
  {
   "cell_type": "markdown",
   "id": "7646ac46-22a5-47ee-b395-e47ed7b825c2",
   "metadata": {},
   "source": [
    "# Flow adjusted loads"
   ]
  },
  {
   "cell_type": "code",
   "execution_count": 851,
   "id": "366b87fd-4ffa-423a-ac9f-38b7e905a235",
   "metadata": {},
   "outputs": [],
   "source": [
    "#flow correction\n",
    "from dataretrieval import nwis\n",
    "# begin by downloading flow datga\n",
    "ambient_gages = gages(ambient_network)\n",
    "supergage_gages = gages(supergage_network)"
   ]
  },
  {
   "cell_type": "code",
   "execution_count": 852,
   "id": "63f28b0f-2005-4d57-b6d4-538cbd36c2cd",
   "metadata": {},
   "outputs": [],
   "source": [
    "start = ambient_loads.year.dt.strftime('%Y')[0] + '-10-01'\n",
    "start = str(start.values)\n",
    "end = '2021-09-30'\n",
    "\n",
    "df, _ = nwis.get_dv(sites=ambient_gages, start=start, end=end, parameterCd='00060')\n",
    "df = df.rename({'00060_Mean':'mean flow [cfs]'}, axis=1).drop('00060_Mean_cd', axis=1)\n",
    "\n",
    "#remove timezone because xarray doesn't know how to handle it yet (bug)\n",
    "df = df.reset_index()\n",
    "df['datetime'] = df['datetime'].values\n",
    "df = df.set_index(['site_no','datetime'])\n",
    "\n",
    "flow_ds = df.to_xarray()\n",
    "flow_ds['water_year'] = flow_ds.datetime.dt.year.where(flow_ds.datetime.dt.month < 10, flow_ds.datetime.dt.year + 1)\n",
    "\n",
    "# compute mean daily flow for each WY\n",
    "# TODO make correction for missing periods\n",
    "flow_wy = flow_ds.groupby('water_year').mean()#.pint.quantify({'flow': 'cfs'})\n",
    "flow_wy['water_year'] = pd.to_datetime(flow_wy['water_year'], format='%Y').values\n",
    "flow_wy = flow_wy.rename({'water_year':'year'})"
   ]
  },
  {
   "cell_type": "code",
   "execution_count": null,
   "id": "2ccd3b48-900e-421a-b3ff-a33578389e60",
   "metadata": {},
   "outputs": [],
   "source": []
  },
  {
   "cell_type": "code",
   "execution_count": 858,
   "id": "8522cc98-85c2-47c5-9913-b08e1c592653",
   "metadata": {},
   "outputs": [
    {
     "name": "stderr",
     "output_type": "stream",
     "text": [
      "C:\\Users\\thodson\\Miniconda3\\lib\\site-packages\\xarray\\core\\variable.py:259: UnitStrippedWarning: The unit of the quantity is stripped when downcasting to ndarray.\n",
      "  data = np.asarray(data)\n"
     ]
    },
    {
     "data": {
      "image/png": "[encoded data removed]",
      "text/plain": [
       "<Figure size 396.85x288 with 1 Axes>"
      ]
     },
     "metadata": {
      "needs_background": "light"
     },
     "output_type": "display_data"
    }
   ],
   "source": [
    "#XXX STILL A WORK IN PROGRESS\n",
    "\n",
    "# flow adjusted load by basin\n",
    "parameter = 'phosphorus'\n",
    "units = 'percentage'\n",
    "baseline_years = np.arange(1986,1996+1)\n",
    "study_years = np.arange(2017,2021+1) \n",
    "\n",
    "fig, ax = plt.subplots(figsize=(fig_w, fig_h))\n",
    "\n",
    "ds1 = ambient_loads[parameter].sel(year=ambient_loads.year.dt.year.isin(baseline_years))  / ambient_flows.sum(dim='river')['mean flow [cfs]']\n",
    "ds2 = supergage_loads[parameter].sel(year=supergage_loads.year.dt.year.isin(study_years)) / ambient_flows.sum(dim='river')['mean flow [cfs]']\n",
    "#ds1 = ambient_loads[parameter].sel(river=labels(ambient_network)).sum(dim='river') / ambient_flows.sum(dim='river')['mean flow [cfs]']\n",
    "#ds2 = supergage_loads[parameter].sel(river=labels(supergage_network)).sum(dim='river') / ambient_flows.sum(dim='river')['mean flow [cfs]']\n",
    "\n",
    "\n",
    "\n",
    "plot_change_by_basin(ds1, ds2, color='lavender', ax=ax, statewide=False)\n",
    "\n",
    "ax.set_xticklabels([ label.get_text().replace(' at ','\\nat ') for label in ax.get_xticklabels()], rotation=60, ha='right')\n",
    "#ax.set_ylabel(f'{parameter.title()}\\n Relative to Baseline\\n[{ds1.pint.units}]')\n",
    "ax.set_ylabel(f'Annual {parameter} load \\n[{units} above local baseline]'.title())\n",
    "\n",
    "fig.tight_layout()\n",
    "fig.savefig(f'../../figures/{parameter}_flow_adjusted_relative_to_state_baseline_by_river.pdf')"
   ]
  },
  {
   "cell_type": "code",
   "execution_count": 840,
   "id": "516d9f52-54f0-4284-b06c-b4b375b76f3e",
   "metadata": {},
   "outputs": [],
   "source": [
    "#def normalize(ds, dim='year'):\n",
    "#    return (ds - ds.mean(dim=dim)) / ds.std(dim=dim)\n",
    "#\n",
    "#\n",
    "#ambient_flows = compute_network_loads(flow_wy, ambient_network, nested=False)\n",
    "#ambient_flows_z = normalize(ambient_flows) + 1\n",
    "#statewide_flows_z = normalize(ambient_flows.sum(dim='river')) + 1"
   ]
  },
  {
   "cell_type": "code",
   "execution_count": 463,
   "id": "ee17603e-64f7-4e07-8823-bfe8d9d88451",
   "metadata": {},
   "outputs": [
    {
     "data": {
      "text/html": [
       "<div><svg style=\"position: absolute; width: 0; height: 0; overflow: hidden\">\n",
       "<defs>\n",
       "<symbol id=\"icon-database\" viewBox=\"0 0 32 32\">\n",
       "<path d=\"M16 0c-8.837 0-16 2.239-16 5v4c0 2.761 7.163 5 16 5s16-2.239 16-5v-4c0-2.761-7.163-5-16-5z\"></path>\n",
       "<path d=\"M16 17c-8.837 0-16-2.239-16-5v6c0 2.761 7.163 5 16 5s16-2.239 16-5v-6c0 2.761-7.163 5-16 5z\"></path>\n",
       "<path d=\"M16 26c-8.837 0-16-2.239-16-5v6c0 2.761 7.163 5 16 5s16-2.239 16-5v-6c0 2.761-7.163 5-16 5z\"></path>\n",
       "</symbol>\n",
       "<symbol id=\"icon-file-text2\" viewBox=\"0 0 32 32\">\n",
       "<path d=\"M28.681 7.159c-0.694-0.947-1.662-2.053-2.724-3.116s-2.169-2.030-3.116-2.724c-1.612-1.182-2.393-1.319-2.841-1.319h-15.5c-1.378 0-2.5 1.121-2.5 2.5v27c0 1.378 1.122 2.5 2.5 2.5h23c1.378 0 2.5-1.122 2.5-2.5v-19.5c0-0.448-0.137-1.23-1.319-2.841zM24.543 5.457c0.959 0.959 1.712 1.825 2.268 2.543h-4.811v-4.811c0.718 0.556 1.584 1.309 2.543 2.268zM28 29.5c0 0.271-0.229 0.5-0.5 0.5h-23c-0.271 0-0.5-0.229-0.5-0.5v-27c0-0.271 0.229-0.5 0.5-0.5 0 0 15.499-0 15.5 0v7c0 0.552 0.448 1 1 1h7v19.5z\"></path>\n",
       "<path d=\"M23 26h-14c-0.552 0-1-0.448-1-1s0.448-1 1-1h14c0.552 0 1 0.448 1 1s-0.448 1-1 1z\"></path>\n",
       "<path d=\"M23 22h-14c-0.552 0-1-0.448-1-1s0.448-1 1-1h14c0.552 0 1 0.448 1 1s-0.448 1-1 1z\"></path>\n",
       "<path d=\"M23 18h-14c-0.552 0-1-0.448-1-1s0.448-1 1-1h14c0.552 0 1 0.448 1 1s-0.448 1-1 1z\"></path>\n",
       "</symbol>\n",
       "</defs>\n",
       "</svg>\n",
       "<style>/* CSS stylesheet for displaying xarray objects in jupyterlab.\n",
       " *\n",
       " */\n",
       "\n",
       ":root {\n",
       "  --xr-font-color0: var(--jp-content-font-color0, rgba(0, 0, 0, 1));\n",
       "  --xr-font-color2: var(--jp-content-font-color2, rgba(0, 0, 0, 0.54));\n",
       "  --xr-font-color3: var(--jp-content-font-color3, rgba(0, 0, 0, 0.38));\n",
       "  --xr-border-color: var(--jp-border-color2, #e0e0e0);\n",
       "  --xr-disabled-color: var(--jp-layout-color3, #bdbdbd);\n",
       "  --xr-background-color: var(--jp-layout-color0, white);\n",
       "  --xr-background-color-row-even: var(--jp-layout-color1, white);\n",
       "  --xr-background-color-row-odd: var(--jp-layout-color2, #eeeeee);\n",
       "}\n",
       "\n",
       "html[theme=dark],\n",
       "body.vscode-dark {\n",
       "  --xr-font-color0: rgba(255, 255, 255, 1);\n",
       "  --xr-font-color2: rgba(255, 255, 255, 0.54);\n",
       "  --xr-font-color3: rgba(255, 255, 255, 0.38);\n",
       "  --xr-border-color: #1F1F1F;\n",
       "  --xr-disabled-color: #515151;\n",
       "  --xr-background-color: #111111;\n",
       "  --xr-background-color-row-even: #111111;\n",
       "  --xr-background-color-row-odd: #313131;\n",
       "}\n",
       "\n",
       ".xr-wrap {\n",
       "  display: block;\n",
       "  min-width: 300px;\n",
       "  max-width: 700px;\n",
       "}\n",
       "\n",
       ".xr-text-repr-fallback {\n",
       "  /* fallback to plain text repr when CSS is not injected (untrusted notebook) */\n",
       "  display: none;\n",
       "}\n",
       "\n",
       ".xr-header {\n",
       "  padding-top: 6px;\n",
       "  padding-bottom: 6px;\n",
       "  margin-bottom: 4px;\n",
       "  border-bottom: solid 1px var(--xr-border-color);\n",
       "}\n",
       "\n",
       ".xr-header > div,\n",
       ".xr-header > ul {\n",
       "  display: inline;\n",
       "  margin-top: 0;\n",
       "  margin-bottom: 0;\n",
       "}\n",
       "\n",
       ".xr-obj-type,\n",
       ".xr-array-name {\n",
       "  margin-left: 2px;\n",
       "  margin-right: 10px;\n",
       "}\n",
       "\n",
       ".xr-obj-type {\n",
       "  color: var(--xr-font-color2);\n",
       "}\n",
       "\n",
       ".xr-sections {\n",
       "  padding-left: 0 !important;\n",
       "  display: grid;\n",
       "  grid-template-columns: 150px auto auto 1fr 20px 20px;\n",
       "}\n",
       "\n",
       ".xr-section-item {\n",
       "  display: contents;\n",
       "}\n",
       "\n",
       ".xr-section-item input {\n",
       "  display: none;\n",
       "}\n",
       "\n",
       ".xr-section-item input + label {\n",
       "  color: var(--xr-disabled-color);\n",
       "}\n",
       "\n",
       ".xr-section-item input:enabled + label {\n",
       "  cursor: pointer;\n",
       "  color: var(--xr-font-color2);\n",
       "}\n",
       "\n",
       ".xr-section-item input:enabled + label:hover {\n",
       "  color: var(--xr-font-color0);\n",
       "}\n",
       "\n",
       ".xr-section-summary {\n",
       "  grid-column: 1;\n",
       "  color: var(--xr-font-color2);\n",
       "  font-weight: 500;\n",
       "}\n",
       "\n",
       ".xr-section-summary > span {\n",
       "  display: inline-block;\n",
       "  padding-left: 0.5em;\n",
       "}\n",
       "\n",
       ".xr-section-summary-in:disabled + label {\n",
       "  color: var(--xr-font-color2);\n",
       "}\n",
       "\n",
       ".xr-section-summary-in + label:before {\n",
       "  display: inline-block;\n",
       "  content: '►';\n",
       "  font-size: 11px;\n",
       "  width: 15px;\n",
       "  text-align: center;\n",
       "}\n",
       "\n",
       ".xr-section-summary-in:disabled + label:before {\n",
       "  color: var(--xr-disabled-color);\n",
       "}\n",
       "\n",
       ".xr-section-summary-in:checked + label:before {\n",
       "  content: '▼';\n",
       "}\n",
       "\n",
       ".xr-section-summary-in:checked + label > span {\n",
       "  display: none;\n",
       "}\n",
       "\n",
       ".xr-section-summary,\n",
       ".xr-section-inline-details {\n",
       "  padding-top: 4px;\n",
       "  padding-bottom: 4px;\n",
       "}\n",
       "\n",
       ".xr-section-inline-details {\n",
       "  grid-column: 2 / -1;\n",
       "}\n",
       "\n",
       ".xr-section-details {\n",
       "  display: none;\n",
       "  grid-column: 1 / -1;\n",
       "  margin-bottom: 5px;\n",
       "}\n",
       "\n",
       ".xr-section-summary-in:checked ~ .xr-section-details {\n",
       "  display: contents;\n",
       "}\n",
       "\n",
       ".xr-array-wrap {\n",
       "  grid-column: 1 / -1;\n",
       "  display: grid;\n",
       "  grid-template-columns: 20px auto;\n",
       "}\n",
       "\n",
       ".xr-array-wrap > label {\n",
       "  grid-column: 1;\n",
       "  vertical-align: top;\n",
       "}\n",
       "\n",
       ".xr-preview {\n",
       "  color: var(--xr-font-color3);\n",
       "}\n",
       "\n",
       ".xr-array-preview,\n",
       ".xr-array-data {\n",
       "  padding: 0 5px !important;\n",
       "  grid-column: 2;\n",
       "}\n",
       "\n",
       ".xr-array-data,\n",
       ".xr-array-in:checked ~ .xr-array-preview {\n",
       "  display: none;\n",
       "}\n",
       "\n",
       ".xr-array-in:checked ~ .xr-array-data,\n",
       ".xr-array-preview {\n",
       "  display: inline-block;\n",
       "}\n",
       "\n",
       ".xr-dim-list {\n",
       "  display: inline-block !important;\n",
       "  list-style: none;\n",
       "  padding: 0 !important;\n",
       "  margin: 0;\n",
       "}\n",
       "\n",
       ".xr-dim-list li {\n",
       "  display: inline-block;\n",
       "  padding: 0;\n",
       "  margin: 0;\n",
       "}\n",
       "\n",
       ".xr-dim-list:before {\n",
       "  content: '(';\n",
       "}\n",
       "\n",
       ".xr-dim-list:after {\n",
       "  content: ')';\n",
       "}\n",
       "\n",
       ".xr-dim-list li:not(:last-child):after {\n",
       "  content: ',';\n",
       "  padding-right: 5px;\n",
       "}\n",
       "\n",
       ".xr-has-index {\n",
       "  font-weight: bold;\n",
       "}\n",
       "\n",
       ".xr-var-list,\n",
       ".xr-var-item {\n",
       "  display: contents;\n",
       "}\n",
       "\n",
       ".xr-var-item > div,\n",
       ".xr-var-item label,\n",
       ".xr-var-item > .xr-var-name span {\n",
       "  background-color: var(--xr-background-color-row-even);\n",
       "  margin-bottom: 0;\n",
       "}\n",
       "\n",
       ".xr-var-item > .xr-var-name:hover span {\n",
       "  padding-right: 5px;\n",
       "}\n",
       "\n",
       ".xr-var-list > li:nth-child(odd) > div,\n",
       ".xr-var-list > li:nth-child(odd) > label,\n",
       ".xr-var-list > li:nth-child(odd) > .xr-var-name span {\n",
       "  background-color: var(--xr-background-color-row-odd);\n",
       "}\n",
       "\n",
       ".xr-var-name {\n",
       "  grid-column: 1;\n",
       "}\n",
       "\n",
       ".xr-var-dims {\n",
       "  grid-column: 2;\n",
       "}\n",
       "\n",
       ".xr-var-dtype {\n",
       "  grid-column: 3;\n",
       "  text-align: right;\n",
       "  color: var(--xr-font-color2);\n",
       "}\n",
       "\n",
       ".xr-var-preview {\n",
       "  grid-column: 4;\n",
       "}\n",
       "\n",
       ".xr-var-name,\n",
       ".xr-var-dims,\n",
       ".xr-var-dtype,\n",
       ".xr-preview,\n",
       ".xr-attrs dt {\n",
       "  white-space: nowrap;\n",
       "  overflow: hidden;\n",
       "  text-overflow: ellipsis;\n",
       "  padding-right: 10px;\n",
       "}\n",
       "\n",
       ".xr-var-name:hover,\n",
       ".xr-var-dims:hover,\n",
       ".xr-var-dtype:hover,\n",
       ".xr-attrs dt:hover {\n",
       "  overflow: visible;\n",
       "  width: auto;\n",
       "  z-index: 1;\n",
       "}\n",
       "\n",
       ".xr-var-attrs,\n",
       ".xr-var-data {\n",
       "  display: none;\n",
       "  background-color: var(--xr-background-color) !important;\n",
       "  padding-bottom: 5px !important;\n",
       "}\n",
       "\n",
       ".xr-var-attrs-in:checked ~ .xr-var-attrs,\n",
       ".xr-var-data-in:checked ~ .xr-var-data {\n",
       "  display: block;\n",
       "}\n",
       "\n",
       ".xr-var-data > table {\n",
       "  float: right;\n",
       "}\n",
       "\n",
       ".xr-var-name span,\n",
       ".xr-var-data,\n",
       ".xr-attrs {\n",
       "  padding-left: 25px !important;\n",
       "}\n",
       "\n",
       ".xr-attrs,\n",
       ".xr-var-attrs,\n",
       ".xr-var-data {\n",
       "  grid-column: 1 / -1;\n",
       "}\n",
       "\n",
       "dl.xr-attrs {\n",
       "  padding: 0;\n",
       "  margin: 0;\n",
       "  display: grid;\n",
       "  grid-template-columns: 125px auto;\n",
       "}\n",
       "\n",
       ".xr-attrs dt,\n",
       ".xr-attrs dd {\n",
       "  padding: 0;\n",
       "  margin: 0;\n",
       "  float: left;\n",
       "  padding-right: 10px;\n",
       "  width: auto;\n",
       "}\n",
       "\n",
       ".xr-attrs dt {\n",
       "  font-weight: normal;\n",
       "  grid-column: 1;\n",
       "}\n",
       "\n",
       ".xr-attrs dt:hover span {\n",
       "  display: inline-block;\n",
       "  background: var(--xr-background-color);\n",
       "  padding-right: 10px;\n",
       "}\n",
       "\n",
       ".xr-attrs dd {\n",
       "  grid-column: 2;\n",
       "  white-space: pre-wrap;\n",
       "  word-break: break-all;\n",
       "}\n",
       "\n",
       ".xr-icon-database,\n",
       ".xr-icon-file-text2 {\n",
       "  display: inline-block;\n",
       "  vertical-align: middle;\n",
       "  width: 1em;\n",
       "  height: 1.5em !important;\n",
       "  stroke-width: 0;\n",
       "  stroke: currentColor;\n",
       "  fill: currentColor;\n",
       "}\n",
       "</style><pre class='xr-text-repr-fallback'>&lt;xarray.DataArray &#x27;nitrate&#x27; (year: 6)&gt;\n",
       "&lt;Quantity([41847983.44180531 53920328.09012125 39100590.05070642 62600485.66789934\n",
       " 47319946.6476073  20655568.57315739], &#x27;kilogram&#x27;)&gt;\n",
       "Coordinates:\n",
       "  * year     (year) datetime64[ns] 2016-01-01 2017-01-01 ... 2021-01-01\n",
       "    river    &lt;U27 &#x27;Rock at Joslin&#x27;</pre><div class='xr-wrap' hidden><div class='xr-header'><div class='xr-obj-type'>xarray.DataArray</div><div class='xr-array-name'>'nitrate'</div><ul class='xr-dim-list'><li><span class='xr-has-index'>year</span>: 6</li></ul></div><ul class='xr-sections'><li class='xr-section-item'><div class='xr-array-wrap'><input id='section-9e533724-ab13-4ae3-b8fc-f06e6ccbf925' class='xr-array-in' type='checkbox' checked><label for='section-9e533724-ab13-4ae3-b8fc-f06e6ccbf925' title='Show/hide data repr'><svg class='icon xr-icon-database'><use xlink:href='#icon-database'></use></svg></label><div class='xr-array-preview xr-preview'><span>[kg] 4.185e+07 5.392e+07 3.91e+07 6.26e+07 4.732e+07 2.066e+07</span></div><div class='xr-array-data'><table><tbody><tr><th>Magnitude</th><td style='text-align:left;'><pre>[41847983.44180531 53920328.09012125 39100590.050706424 62600485.66789934<br> 47319946.647607304 20655568.57315739]</pre></td></tr><tr><th>Units</th><td style='text-align:left;'>kilogram</td></tr></tbody></table></div></div></li><li class='xr-section-item'><input id='section-74edd942-ffea-4d6d-92a8-f429f83f638c' class='xr-section-summary-in' type='checkbox'  checked><label for='section-74edd942-ffea-4d6d-92a8-f429f83f638c' class='xr-section-summary' >Coordinates: <span>(2)</span></label><div class='xr-section-inline-details'></div><div class='xr-section-details'><ul class='xr-var-list'><li class='xr-var-item'><div class='xr-var-name'><span class='xr-has-index'>year</span></div><div class='xr-var-dims'>(year)</div><div class='xr-var-dtype'>datetime64[ns]</div><div class='xr-var-preview xr-preview'>2016-01-01 ... 2021-01-01</div><input id='attrs-85243d94-9530-4301-a2d0-34fa10e8ab73' class='xr-var-attrs-in' type='checkbox' disabled><label for='attrs-85243d94-9530-4301-a2d0-34fa10e8ab73' title='Show/Hide attributes'><svg class='icon xr-icon-file-text2'><use xlink:href='#icon-file-text2'></use></svg></label><input id='data-43be391d-8bf0-40f1-a280-f7c0a6b1408d' class='xr-var-data-in' type='checkbox'><label for='data-43be391d-8bf0-40f1-a280-f7c0a6b1408d' title='Show/Hide data repr'><svg class='icon xr-icon-database'><use xlink:href='#icon-database'></use></svg></label><div class='xr-var-attrs'><dl class='xr-attrs'></dl></div><div class='xr-var-data'><pre>array([&#x27;2016-01-01T00:00:00.000000000&#x27;, &#x27;2017-01-01T00:00:00.000000000&#x27;,\n",
       "       &#x27;2018-01-01T00:00:00.000000000&#x27;, &#x27;2019-01-01T00:00:00.000000000&#x27;,\n",
       "       &#x27;2020-01-01T00:00:00.000000000&#x27;, &#x27;2021-01-01T00:00:00.000000000&#x27;],\n",
       "      dtype=&#x27;datetime64[ns]&#x27;)</pre></div></li><li class='xr-var-item'><div class='xr-var-name'><span>river</span></div><div class='xr-var-dims'>()</div><div class='xr-var-dtype'>&lt;U27</div><div class='xr-var-preview xr-preview'>&#x27;Rock at Joslin&#x27;</div><input id='attrs-dcc85efc-4f80-43f0-b2f4-b88a543c9577' class='xr-var-attrs-in' type='checkbox' disabled><label for='attrs-dcc85efc-4f80-43f0-b2f4-b88a543c9577' title='Show/Hide attributes'><svg class='icon xr-icon-file-text2'><use xlink:href='#icon-file-text2'></use></svg></label><input id='data-a96f9068-b09f-4a12-8ee1-b362c1010dfa' class='xr-var-data-in' type='checkbox'><label for='data-a96f9068-b09f-4a12-8ee1-b362c1010dfa' title='Show/Hide data repr'><svg class='icon xr-icon-database'><use xlink:href='#icon-database'></use></svg></label><div class='xr-var-attrs'><dl class='xr-attrs'></dl></div><div class='xr-var-data'><pre>array(&#x27;Rock at Joslin&#x27;, dtype=&#x27;&lt;U27&#x27;)</pre></div></li></ul></div></li><li class='xr-section-item'><input id='section-e1436342-3bdf-450c-a246-70b7e31a82b0' class='xr-section-summary-in' type='checkbox' disabled ><label for='section-e1436342-3bdf-450c-a246-70b7e31a82b0' class='xr-section-summary'  title='Expand/collapse section'>Attributes: <span>(0)</span></label><div class='xr-section-inline-details'></div><div class='xr-section-details'><dl class='xr-attrs'></dl></div></li></ul></div></div>"
      ],
      "text/plain": [
       "<xarray.DataArray 'nitrate' (year: 6)>\n",
       "<Quantity([41847983.44180531 53920328.09012125 39100590.05070642 62600485.66789934\n",
       " 47319946.6476073  20655568.57315739], 'kilogram')>\n",
       "Coordinates:\n",
       "  * year     (year) datetime64[ns] 2016-01-01 2017-01-01 ... 2021-01-01\n",
       "    river    <U27 'Rock at Joslin'"
      ]
     },
     "execution_count": 463,
     "metadata": {},
     "output_type": "execute_result"
    }
   ],
   "source": [
    "supergage_loads[parameter].sel(river='Rock at Joslin')"
   ]
  },
  {
   "cell_type": "code",
   "execution_count": 662,
   "id": "b0819075-2ea4-4524-b394-30ecddb40df2",
   "metadata": {},
   "outputs": [
    {
     "name": "stderr",
     "output_type": "stream",
     "text": [
      "C:\\Users\\thodson\\Miniconda3\\lib\\site-packages\\xarray\\core\\variable.py:259: UnitStrippedWarning: The unit of the quantity is stripped when downcasting to ndarray.\n",
      "  data = np.asarray(data)\n",
      "C:\\Users\\thodson\\Miniconda3\\lib\\site-packages\\xarray\\core\\variable.py:259: UnitStrippedWarning: The unit of the quantity is stripped when downcasting to ndarray.\n",
      "  data = np.asarray(data)\n",
      "C:\\Users\\thodson\\Miniconda3\\lib\\site-packages\\xarray\\core\\variable.py:259: UnitStrippedWarning: The unit of the quantity is stripped when downcasting to ndarray.\n",
      "  data = np.asarray(data)\n"
     ]
    },
    {
     "data": {
      "image/png": "[encoded data removed]",
      "text/plain": [
       "<Figure size 396.85x288 with 1 Axes>"
      ]
     },
     "metadata": {
      "needs_background": "light"
     },
     "output_type": "display_data"
    }
   ],
   "source": [
    "#simple flow adjusted (kg per cfs)\n",
    "baseline_years = np.arange(1986,1996+1)\n",
    "study_years = np.arange(2017,2021+1) #base this on data\n",
    "parameter='nitrate'; loc='upper right'\n",
    "#parameter='phosphorus'; loc='upper left'\n",
    "\n",
    "ds1_fa = ambient_loads[parameter].sel(river=labels(ambient_network)).sum(dim='river') / ambient_flows.sum(dim='river')['mean flow [cfs]']\n",
    "ds2_fa = supergage_loads[parameter].sel(river=labels(supergage_network)).sum(dim='river') / ambient_flows.sum(dim='river')['mean flow [cfs]']\n",
    "#river = 'Rock at Joslin'\n",
    "#ds1_fa = ambient_loads[parameter].sel(river=river) / ambient_flows.sel(river=river)['mean flow [cfs]']\n",
    "#ds2_fa = supergage_loads[parameter].sel(river=river)/ ambient_flows.sel(river=river)['mean flow [cfs]']\n",
    "fig, ax = plt.subplots(figsize=(fig_w, fig_h))\n",
    "\n",
    "running_average_plot(ds1=ds1_fa,\n",
    "                     period1=baseline_years,\n",
    "                     period2=study_years,\n",
    "                     ds2=ds2_fa,\n",
    "                     loc=loc,\n",
    "                     ax=ax)\n",
    "\n",
    "fig.tight_layout()\n",
    "fig.savefig(f'../../figures/{parameter}_timeseries_flow_adjusted.pdf')"
   ]
  },
  {
   "cell_type": "code",
   "execution_count": null,
   "id": "8031a278-77f3-4ce9-8415-db2f8e02aa5b",
   "metadata": {},
   "outputs": [],
   "source": []
  },
  {
   "cell_type": "code",
   "execution_count": 466,
   "id": "fb905f91-2306-49e8-8515-6ee803006ace",
   "metadata": {},
   "outputs": [
    {
     "name": "stderr",
     "output_type": "stream",
     "text": [
      "C:\\Users\\thodson\\Miniconda3\\lib\\site-packages\\xarray\\core\\variable.py:259: UnitStrippedWarning: The unit of the quantity is stripped when downcasting to ndarray.\n",
      "  data = np.asarray(data)\n",
      "C:\\Users\\thodson\\Miniconda3\\lib\\site-packages\\xarray\\core\\variable.py:259: UnitStrippedWarning: The unit of the quantity is stripped when downcasting to ndarray.\n",
      "  data = np.asarray(data)\n",
      "C:\\Users\\thodson\\Miniconda3\\lib\\site-packages\\xarray\\core\\variable.py:259: UnitStrippedWarning: The unit of the quantity is stripped when downcasting to ndarray.\n",
      "  data = np.asarray(data)\n"
     ]
    },
    {
     "data": {
      "image/png": "[encoded data removed]",
      "text/plain": [
       "<Figure size 432x288 with 1 Axes>"
      ]
     },
     "metadata": {
      "needs_background": "light"
     },
     "output_type": "display_data"
    }
   ],
   "source": [
    "#simple flow adjusted (kg per cfs)\n",
    "baseline_years = np.arange(1986,1996+1)\n",
    "study_years = np.arange(2017,2021+1) #base this on data\n",
    "#parameter='nitrate'; loc='upper right'\n",
    "parameter='phosphorus'; loc='upper left'\n",
    "\n",
    "ds1_fa = ambient_loads[parameter].sel(river=labels(ambient_network)).sum(dim='river') / ambient_flows.sum(dim='river')['mean flow [cfs]']\n",
    "#ds2_fa = ambient_loads[parameter].sel(river=labels(ambient_network)).sum(dim='river') / ambient_flows.sum(dim='river')['mean flow [cfs]']\n",
    "ds2_fa = supergage_loads[parameter].sel(river=labels(supergage_network)).sum(dim='river') / ambient_flows.sum(dim='river')['mean flow [cfs]']\n",
    "\n",
    "fig, ax = plt.subplots()\n",
    "\n",
    "running_average_plot(ds1=ds1_fa,\n",
    "                     period1=baseline_years,\n",
    "                     period2=study_years,\n",
    "                     ds2=ds2_fa,\n",
    "                     loc=loc,\n",
    "                     ax=ax)\n",
    "\n",
    "fig.savefig(f'../../figures/{parameter}_timeseries_flow_adjusted.pdf')"
   ]
  },
  {
   "cell_type": "markdown",
   "id": "fcf4ffa1-1fd2-485e-a72d-1b9512cd03ad",
   "metadata": {},
   "source": [
    "# scratch# change from baseline\n",
    "parameter = 'nitrate'\n",
    "baseline_years = np.arange(1986,1996+1)\n",
    "study_years = np.arange(2017,2021) #base this on data\n",
    "\n",
    "\n",
    "ds1 = ambient_loads[parameter].sel(year=ambient_loads.year.dt.year.isin(baseline_years)).mean(dim='year')\n",
    "ds2 = supergage_loads[parameter].sel(year=supergage_loads.year.dt.year.isin(study_years)).mean(dim='year')\n",
    "\n",
    "plot_difference_by_river(ds1, ds2, color='k')"
   ]
  },
  {
   "cell_type": "code",
   "execution_count": null,
   "id": "f5119883-17d6-48b2-a9b1-acc768e4ab77",
   "metadata": {},
   "outputs": [],
   "source": [
    "# change from baseline\n",
    "parameter = 'nitrate'\n",
    "baseline_years = np.arange(1986,1996+1)\n",
    "study_years = np.arange(2017,2021) #base this on data\n",
    "\n",
    "\n",
    "ds1 = ambient_loads[parameter].sel(year=ambient_loads.year.dt.year.isin(baseline_years)).mean(dim='year')\n",
    "ds2 = supergage_loads[parameter].sel(year=supergage_loads.year.dt.year.isin(study_years)).mean(dim='year')\n",
    "\n",
    "plot_difference_by_river(ds1, ds2, color='k')"
   ]
  }
 ],
 "metadata": {
  "kernelspec": {
   "display_name": "Python 3 (ipykernel)",
   "language": "python",
   "name": "python3"
  },
  "language_info": {
   "codemirror_mode": {
    "name": "ipython",
    "version": 3
   },
   "file_extension": ".py",
   "mimetype": "text/x-python",
   "name": "python",
   "nbconvert_exporter": "python",
   "pygments_lexer": "ipython3",
   "version": "3.8.5"
  }
 },
 "nbformat": 4,
 "nbformat_minor": 5
}
